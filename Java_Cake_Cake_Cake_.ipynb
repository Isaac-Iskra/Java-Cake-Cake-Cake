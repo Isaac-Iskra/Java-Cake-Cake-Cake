{
  "nbformat": 4,
  "nbformat_minor": 0,
  "metadata": {
    "colab": {
      "provenance": []
    },
    "kernelspec": {
      "name": "python3",
      "display_name": "Python 3"
    },
    "language_info": {
      "name": "python"
    }
  },
  "cells": [
    {
      "cell_type": "code",
      "execution_count": null,
      "metadata": {
        "id": "YkycrGasOfCv"
      },
      "outputs": [],
      "source": [
        "public class Cake {\n",
        "    private String flavor;\n",
        "    private double price;\n",
        "\n",
        "    public Cake() {\n",
        "        this.flavor = \"vanilla\";\n",
        "        this.price = 10.0;\n",
        "    }\n",
        "\n",
        "    public String getFlavor() {\n",
        "        return flavor;\n",
        "    }\n",
        "\n",
        "    public void setFlavor(String flavor) {\n",
        "        this.flavor = flavor;\n",
        "    }\n",
        "\n",
        "    public double getPrice() {\n",
        "        return price;\n",
        "    }\n",
        "\n",
        "    public void setPrice(double price) {\n",
        "        this.price = price;\n",
        "    }\n",
        "}\n",
        "\n",
        "public class Bakery extends Cake {\n",
        "\n",
        "}\n",
        "\n",
        "public class BirthdayCake extends Cake {\n",
        "    private int candles;\n",
        "    \n",
        "    public BirthdayCake() {\n",
        "        super();\n",
        "        this.setFlavor(\"chocolate\");\n",
        "        this.candles = 0;\n",
        "    }\n",
        "    \n",
        "    public int getCandles() {\n",
        "        return candles;\n",
        "    }\n",
        "    \n",
        "    public void setCandles(int candles) {\n",
        "        this.candles = candles;\n",
        "    }\n",
        "}\n",
        "\n",
        "public class WeddingCake extends Cake {\n",
        "    private int tiers;\n",
        "    \n",
        "    public WeddingCake() {\n",
        "        super();\n",
        "        this.setFlavor(\"almond\");\n",
        "        this.tiers = 1;\n",
        "    }\n",
        "    \n",
        "    public int getTiers() {\n",
        "        return tiers;\n",
        "    }\n",
        "    \n",
        "    public void setTiers(int tiers) {\n",
        "        this.tiers = tiers;\n",
        "    }\n",
        "}\n"
      ]
    }
  ]
}